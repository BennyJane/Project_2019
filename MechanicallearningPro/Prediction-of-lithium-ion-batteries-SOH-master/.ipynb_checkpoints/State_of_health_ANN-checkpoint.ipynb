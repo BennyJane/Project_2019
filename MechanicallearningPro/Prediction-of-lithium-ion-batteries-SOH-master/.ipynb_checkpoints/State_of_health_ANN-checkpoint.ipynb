{
 "cells": [
  {
   "cell_type": "markdown",
   "metadata": {},
   "source": [
    "#  State-Of-Health Estimation of  Lithium-ion Pouch Cells Using Artificial Neural Network\n",
    "Artificial Neural Network (ANN) has been used to estimate state-of-health (SOH) of lithium-ion pouch cells. The batteries were stored at different storage temperature (35°C and 60°C) and conditions (fully-discharged and fully-charged) and their capacity was recorded for the duration of 10 months at one-month intervals. \n",
    "\n",
    "## Library Imports"
   ]
  },
  {
   "cell_type": "code",
   "execution_count": 1,
   "metadata": {},
   "outputs": [],
   "source": [
    "# Numpy and Pandas \n",
    "import numpy as np\n",
    "import pandas as pd\n",
    "\n",
    "# Vizualization\n",
    "from matplotlib import pyplot as plt\n",
    "%matplotlib inline\n",
    "import seaborn as sns\n",
    "sns.set_style('darkgrid')\n",
    "\n",
    "# Machine learning algorithms\n",
    "from sklearn.neural_network import MLPRegressor\n",
    "\n",
    "# Machine learning pipeline \n",
    "from sklearn.model_selection import train_test_split\n",
    "from sklearn.pipeline import make_pipeline\n",
    "from sklearn.preprocessing import StandardScaler\n",
    "from sklearn.model_selection import GridSearchCV\n",
    "\n",
    "# Regression Metrics\n",
    "from sklearn.metrics import mean_absolute_error\n",
    "from sklearn.metrics import r2_score\n",
    "\n",
    "# Ignore ConvergenceWarning messages\n",
    "import warnings\n",
    "from sklearn.exceptions import ConvergenceWarning\n",
    "warnings.simplefilter(action='ignore', category=ConvergenceWarning)\n",
    "\n",
    "# Check the fitted_model\n",
    "from sklearn.exceptions import NotFittedError\n",
    "\n",
    "# Save python obect to disk\n",
    "import pickle"
   ]
  },
  {
   "cell_type": "markdown",
   "metadata": {},
   "source": [
    "## Exploratory Analysis"
   ]
  },
  {
   "cell_type": "code",
   "execution_count": 2,
   "metadata": {},
   "outputs": [
    {
     "data": {
      "text/html": [
       "<div>\n",
       "<style scoped>\n",
       "    .dataframe tbody tr th:only-of-type {\n",
       "        vertical-align: middle;\n",
       "    }\n",
       "\n",
       "    .dataframe tbody tr th {\n",
       "        vertical-align: top;\n",
       "    }\n",
       "\n",
       "    .dataframe thead th {\n",
       "        text-align: right;\n",
       "    }\n",
       "</style>\n",
       "<table border=\"1\" class=\"dataframe\">\n",
       "  <thead>\n",
       "    <tr style=\"text-align: right;\">\n",
       "      <th></th>\n",
       "      <th>SOH</th>\n",
       "      <th>month</th>\n",
       "      <th>Temp</th>\n",
       "      <th>Charged</th>\n",
       "    </tr>\n",
       "  </thead>\n",
       "  <tbody>\n",
       "    <tr>\n",
       "      <th>0</th>\n",
       "      <td>0.919533</td>\n",
       "      <td>0</td>\n",
       "      <td>0</td>\n",
       "      <td>0</td>\n",
       "    </tr>\n",
       "    <tr>\n",
       "      <th>1</th>\n",
       "      <td>0.973808</td>\n",
       "      <td>1</td>\n",
       "      <td>0</td>\n",
       "      <td>0</td>\n",
       "    </tr>\n",
       "    <tr>\n",
       "      <th>2</th>\n",
       "      <td>0.644441</td>\n",
       "      <td>2</td>\n",
       "      <td>0</td>\n",
       "      <td>0</td>\n",
       "    </tr>\n",
       "    <tr>\n",
       "      <th>3</th>\n",
       "      <td>0.274389</td>\n",
       "      <td>3</td>\n",
       "      <td>0</td>\n",
       "      <td>0</td>\n",
       "    </tr>\n",
       "    <tr>\n",
       "      <th>4</th>\n",
       "      <td>0.633747</td>\n",
       "      <td>4</td>\n",
       "      <td>0</td>\n",
       "      <td>0</td>\n",
       "    </tr>\n",
       "  </tbody>\n",
       "</table>\n",
       "</div>"
      ],
      "text/plain": [
       "        SOH  month  Temp  Charged\n",
       "0  0.919533      0     0        0\n",
       "1  0.973808      1     0        0\n",
       "2  0.644441      2     0        0\n",
       "3  0.274389      3     0        0\n",
       "4  0.633747      4     0        0"
      ]
     },
     "execution_count": 2,
     "metadata": {},
     "output_type": "execute_result"
    }
   ],
   "source": [
    "df = pd.read_csv('./soh.csv')\n",
    "df.head()"
   ]
  },
  {
   "cell_type": "code",
   "execution_count": 4,
   "metadata": {},
   "outputs": [
    {
     "data": {
      "image/png": "[encoded data removed]",
      "text/plain": [
       "<Figure size 1008x1008 with 4 Axes>"
      ]
     },
     "metadata": {},
     "output_type": "display_data"
    }
   ],
   "source": [
    "# xrot 设置横坐标旋转角度\n",
    "# hist() 统计每个值的数量\n",
    "df.hist(figsize=(14,14), xrot=-45)\n",
    "plt.show()"
   ]
  },
  {
   "cell_type": "code",
   "execution_count": 3,
   "metadata": {},
   "outputs": [
    {
     "data": {
      "text/html": [
       "<div>\n",
       "<style scoped>\n",
       "    .dataframe tbody tr th:only-of-type {\n",
       "        vertical-align: middle;\n",
       "    }\n",
       "\n",
       "    .dataframe tbody tr th {\n",
       "        vertical-align: top;\n",
       "    }\n",
       "\n",
       "    .dataframe thead th {\n",
       "        text-align: right;\n",
       "    }\n",
       "</style>\n",
       "<table border=\"1\" class=\"dataframe\">\n",
       "  <thead>\n",
       "    <tr style=\"text-align: right;\">\n",
       "      <th></th>\n",
       "      <th>SOH</th>\n",
       "      <th>month</th>\n",
       "      <th>Temp</th>\n",
       "      <th>Charged</th>\n",
       "    </tr>\n",
       "  </thead>\n",
       "  <tbody>\n",
       "    <tr>\n",
       "      <th>count</th>\n",
       "      <td>87.000000</td>\n",
       "      <td>87.000000</td>\n",
       "      <td>87.000000</td>\n",
       "      <td>87.000000</td>\n",
       "    </tr>\n",
       "    <tr>\n",
       "      <th>mean</th>\n",
       "      <td>0.555808</td>\n",
       "      <td>4.862069</td>\n",
       "      <td>0.494253</td>\n",
       "      <td>0.494253</td>\n",
       "    </tr>\n",
       "    <tr>\n",
       "      <th>std</th>\n",
       "      <td>0.289523</td>\n",
       "      <td>3.031511</td>\n",
       "      <td>0.502865</td>\n",
       "      <td>0.502865</td>\n",
       "    </tr>\n",
       "    <tr>\n",
       "      <th>min</th>\n",
       "      <td>0.009160</td>\n",
       "      <td>0.000000</td>\n",
       "      <td>0.000000</td>\n",
       "      <td>0.000000</td>\n",
       "    </tr>\n",
       "    <tr>\n",
       "      <th>25%</th>\n",
       "      <td>0.304595</td>\n",
       "      <td>2.000000</td>\n",
       "      <td>0.000000</td>\n",
       "      <td>0.000000</td>\n",
       "    </tr>\n",
       "    <tr>\n",
       "      <th>50%</th>\n",
       "      <td>0.578261</td>\n",
       "      <td>5.000000</td>\n",
       "      <td>0.000000</td>\n",
       "      <td>0.000000</td>\n",
       "    </tr>\n",
       "    <tr>\n",
       "      <th>75%</th>\n",
       "      <td>0.783121</td>\n",
       "      <td>8.000000</td>\n",
       "      <td>1.000000</td>\n",
       "      <td>1.000000</td>\n",
       "    </tr>\n",
       "    <tr>\n",
       "      <th>max</th>\n",
       "      <td>0.997740</td>\n",
       "      <td>9.000000</td>\n",
       "      <td>1.000000</td>\n",
       "      <td>1.000000</td>\n",
       "    </tr>\n",
       "  </tbody>\n",
       "</table>\n",
       "</div>"
      ],
      "text/plain": [
       "             SOH      month       Temp    Charged\n",
       "count  87.000000  87.000000  87.000000  87.000000\n",
       "mean    0.555808   4.862069   0.494253   0.494253\n",
       "std     0.289523   3.031511   0.502865   0.502865\n",
       "min     0.009160   0.000000   0.000000   0.000000\n",
       "25%     0.304595   2.000000   0.000000   0.000000\n",
       "50%     0.578261   5.000000   0.000000   0.000000\n",
       "75%     0.783121   8.000000   1.000000   1.000000\n",
       "max     0.997740   9.000000   1.000000   1.000000"
      ]
     },
     "execution_count": 3,
     "metadata": {},
     "output_type": "execute_result"
    }
   ],
   "source": [
    "df.describe()"
   ]
  },
  {
   "cell_type": "code",
   "execution_count": 4,
   "metadata": {},
   "outputs": [
    {
     "data": {
      "image/png": "[encoded data removed]",
      "text/plain": [
       "<Figure size 504x432 with 2 Axes>"
      ]
     },
     "metadata": {},
     "output_type": "display_data"
    }
   ],
   "source": [
    "# 计算每列数据之间的相关性,-1 ~1,越接近1标识相关性越高\n",
    "correlations = df.corr()\n",
    "plt.figure(figsize=(7,6))\n",
    "# 绘制热力图\n",
    "sns.heatmap(correlations, cmap='RdBu_r')\n",
    "plt.show()"
   ]
  },
  {
   "cell_type": "markdown",
   "metadata": {},
   "source": [
    "## Algorithm Selection"
   ]
  },
  {
   "cell_type": "code",
   "execution_count": 5,
   "metadata": {},
   "outputs": [
    {
     "name": "stdout",
     "output_type": "stream",
     "text": [
      "0     0.919533\n",
      "1     0.973808\n",
      "2     0.644441\n",
      "3     0.274389\n",
      "4     0.633747\n",
      "        ...   \n",
      "82    0.929628\n",
      "83    0.913362\n",
      "84    0.064215\n",
      "85    0.455855\n",
      "86    0.473844\n",
      "Name: SOH, Length: 87, dtype: float64\n",
      "         SOH  month  Temp  Charged\n",
      "0   0.919533    0.0   0.0      0.0\n",
      "1   0.973808    1.0   0.0      0.0\n",
      "2   0.644441    2.0   0.0      0.0\n",
      "3   0.274389    3.0   0.0      0.0\n",
      "4   0.633747    4.0   0.0      0.0\n",
      "..       ...    ...   ...      ...\n",
      "82  0.929628    9.0   0.0      0.0\n",
      "83  0.913362    9.0   0.0      0.0\n",
      "84  0.064215    9.0   1.0      1.0\n",
      "85  0.455855    9.0   1.0      1.0\n",
      "86  0.473844    9.0   1.0      1.0\n",
      "\n",
      "[87 rows x 4 columns]\n"
     ]
    }
   ],
   "source": [
    "# 修改数据格式\n",
    "df['month'] = df['month'].astype(float)\n",
    "df['Temp'] = df['Temp'].astype(float)\n",
    "df['Charged'] = df['Charged'].astype(float)\n",
    "# 选取soh列数据作为y轴的值\n",
    "y = df.SOH\n",
    "print(y)\n",
    "# 感觉有问题,这里只删除了一行数据, axis=0,可以删除整列数据\n",
    "X = df.drop('SOH', axis=1)\n",
    "print(df)"
   ]
  },
  {
   "cell_type": "code",
   "execution_count": 6,
   "metadata": {},
   "outputs": [],
   "source": [
    "# train_data：被划分的样本特征集\n",
    "# train_target：被划分的样本标签\n",
    "# test_size：如果是浮点数，在0-1之间，表示样本占比；如果是整数的话就是样本的数量\n",
    "# random_state：是随机数的种子。\n",
    "# 随机数种子：其实就是该组随机数的编号，在需要重复试验的时候，保证得到一组一样的随机数。\n",
    "# 比如你每次都填1，其他参数一样的情况下你得到的随机数组是一样的。但填0或不填，每次都会不一样。\n",
    "X_train, X_test, y_train, y_test = train_test_split(X, y, test_size = 0.2, random_state=1234)\n",
    "# print(X_train, X_test)\n",
    "# print(y_train, y_test)\n",
    "\n",
    "# 神经网络使用slearn中MLPRegressor类实现了一个多层感知器(MLP) =>MLPRegressor\n",
    "# StandardScaler 标准化,使得数据归一化\n",
    "pipelines = {\n",
    "    'mlp'   : make_pipeline(StandardScaler(), MLPRegressor(random_state=123))\n",
    "}"
   ]
  },
  {
   "cell_type": "code",
   "execution_count": 7,
   "metadata": {},
   "outputs": [],
   "source": [
    "# MLP hyperparameters 神经网络的参数\n",
    "# 参数(parameters)/模型参数: 由模型通过学习得到的变量\n",
    "# 超参数(hyperparameters)/算法参数: 根据经验进行设定;\n",
    "# alpha: float,可选的，默认0.0001,正则化项参数 \n",
    "# hidden_layer_sizes: 隐藏层,设置每个隐藏层的神经元个数\n",
    "# activation: 激活函数,默认为relu: f(x) = max(0, x) ; logistic: 就是sigmod,f(x) = 1 / (1 + exp(-x)). \n",
    "mlp_hyperparameters = {\n",
    "    'mlpregressor__alpha': [0.0001, 0.01, 1],\n",
    "    'mlpregressor__hidden_layer_sizes': [(3,), (5,), (7,), (10,), (40,)],\n",
    "    'mlpregressor__activation': ['logistic', 'relu']\n",
    "}\n",
    "\n",
    "# Create hyperparameters dictionary\n",
    "hyperparameters = {\n",
    "    'mlp': mlp_hyperparameters\n",
    "}"
   ]
  },
  {
   "cell_type": "code",
   "execution_count": 10,
   "metadata": {},
   "outputs": [
    {
     "name": "stdout",
     "output_type": "stream",
     "text": [
      "{'mlp': GridSearchCV(cv=10, error_score='raise-deprecating',\n",
      "             estimator=Pipeline(memory=None,\n",
      "                                steps=[('standardscaler',\n",
      "                                        StandardScaler(copy=True,\n",
      "                                                       with_mean=True,\n",
      "                                                       with_std=True)),\n",
      "                                       ('mlpregressor',\n",
      "                                        MLPRegressor(activation='relu',\n",
      "                                                     alpha=0.0001,\n",
      "                                                     batch_size='auto',\n",
      "                                                     beta_1=0.9, beta_2=0.999,\n",
      "                                                     early_stopping=False,\n",
      "                                                     epsilon=1e-08,\n",
      "                                                     hidden_layer_sizes=(100,),\n",
      "                                                     learning_rate='constant'...\n",
      "                                                     solver='adam', tol=0.0001,\n",
      "                                                     validation_fraction=0.1,\n",
      "                                                     verbose=False,\n",
      "                                                     warm_start=False))],\n",
      "                                verbose=False),\n",
      "             iid=True, n_jobs=-1,\n",
      "             param_grid={'mlpregressor__activation': ['logistic', 'relu'],\n",
      "                         'mlpregressor__alpha': [0.0001, 0.01, 1],\n",
      "                         'mlpregressor__hidden_layer_sizes': [(3,), (5,), (7,),\n",
      "                                                              (10,), (40,)]},\n",
      "             pre_dispatch='2*n_jobs', refit=True, return_train_score=False,\n",
      "             scoring=None, verbose=0)}\n",
      "mlp has been fitted.\n"
     ]
    }
   ],
   "source": [
    "# Create empty dictionary called fitted_models\n",
    "fitted_models = {}\n",
    "\n",
    "# 调参,训练模型\n",
    "# Loop through model pipelines, tuning each one and saving it to fitted_models\n",
    "for name, pipeline in pipelines.items():\n",
    "    # 补充iid 参数,可以消除警告提示; 默认True,为True时，默认为各个样本fold概率分布一致，误差估计为所有样本之和，而非各个fold的平均。     \n",
    "    #     \n",
    "    model = GridSearchCV(pipeline, hyperparameters[name], cv=10, n_jobs=-1, iid=True)\n",
    "    \n",
    "    # Fit model on X_train, y_train\n",
    "    model.fit(X_train, y_train)\n",
    "    \n",
    "    # Store model in fitted_models[name] \n",
    "    fitted_models[name] = model\n",
    "    print(fitted_models)\n",
    "    # Print '{name} has been fitted'\n",
    "    print(name, 'has been fitted.')"
   ]
  },
  {
   "cell_type": "code",
   "execution_count": 12,
   "metadata": {},
   "outputs": [
    {
     "name": "stdout",
     "output_type": "stream",
     "text": [
      "mlp has been fitted.\n"
     ]
    }
   ],
   "source": [
    "for name, model in fitted_models.items():\n",
    "    try:\n",
    "        pred = model.predict(X_test)\n",
    "        print (name, 'has been fitted.')\n",
    "    except NotFittedError as e:\n",
    "        print(repr(e))"
   ]
  },
  {
   "cell_type": "markdown",
   "metadata": {},
   "source": [
    "## ANN performance 人工神经网络性能"
   ]
  },
  {
   "cell_type": "code",
   "execution_count": 13,
   "metadata": {},
   "outputs": [
    {
     "name": "stdout",
     "output_type": "stream",
     "text": [
      "mlp\n",
      "[0.52545688 0.52545688 0.52549973 0.54167582 0.52916198 0.54060848\n",
      " 0.53757176 0.53757176 0.54060848 0.52549973 0.52545688 0.53350203\n",
      " 0.53350203 0.53757176 0.54167582 0.54060848 0.52545688 0.53674602]\n",
      "R2: -0.03774642677330653\n",
      "MAE: 0.26374319648788547\n"
     ]
    }
   ],
   "source": [
    "for name,model in fitted_models.items():\n",
    "    pred = fitted_models[name].predict(X_test)\n",
    "    \n",
    "    print(name)\n",
    "    print(pred)\n",
    "    print('R2:', r2_score(y_test, pred))\n",
    "    print('MAE:', mean_absolute_error(y_test, pred))"
   ]
  },
  {
   "cell_type": "markdown",
   "metadata": {},
   "source": [
    "## Insight & Analysis"
   ]
  },
  {
   "cell_type": "code",
   "execution_count": 14,
   "metadata": {},
   "outputs": [
    {
     "data": {
      "image/png": "[encoded data removed]",
      "text/plain": [
       "<Figure size 432x288 with 1 Axes>"
      ]
     },
     "metadata": {},
     "output_type": "display_data"
    }
   ],
   "source": [
    "mlp_pred = fitted_models['mlp'].predict(X_test)\n",
    "plt.scatter(mlp_pred, y_test)\n",
    "plt.xlabel('predicted')                                                                                                                                                                                                                                                                                                                                                                                                                                                                                                                                                                                                                                                                                                                                                                                                                                                                                                                                                                                                                                                                                                                                                                                                                                                                                                                                                                                                                                                                                                                                                                                                                                                                                                                                                                                                                                                                                                                                                                                                                                                                                                                                                                                                                                                                                                                                                                                                                                                                                                                                                                                                                                                                                                                                                                                                                                                                                                                                                                                                                                                                                                                                                                                                                                                                                                                                                                                                                                                                                                                                                                                                                                                                                                                                                                                                                                                                                                                                                                                                                                                                                                                                                                                                                                                                                                                                                                                                                                                                                                                                                                                                                                                                                                                                                                                                                                                                                                                                                                     \n",
    "plt.ylabel('actual')\n",
    "plt.show()"
   ]
  },
  {
   "cell_type": "code",
   "execution_count": 15,
   "metadata": {},
   "outputs": [
    {
     "data": {
      "text/plain": [
       "Pipeline(memory=None,\n",
       "         steps=[('standardscaler',\n",
       "                 StandardScaler(copy=True, with_mean=True, with_std=True)),\n",
       "                ('mlpregressor',\n",
       "                 MLPRegressor(activation='logistic', alpha=1, batch_size='auto',\n",
       "                              beta_1=0.9, beta_2=0.999, early_stopping=False,\n",
       "                              epsilon=1e-08, hidden_layer_sizes=(5,),\n",
       "                              learning_rate='constant',\n",
       "                              learning_rate_init=0.001, max_iter=200,\n",
       "                              momentum=0.9, n_iter_no_change=10,\n",
       "                              nesterovs_momentum=True, power_t=0.5,\n",
       "                              random_state=123, shuffle=True, solver='adam',\n",
       "                              tol=0.0001, validation_fraction=0.1,\n",
       "                              verbose=False, warm_start=False))],\n",
       "         verbose=False)"
      ]
     },
     "execution_count": 15,
     "metadata": {},
     "output_type": "execute_result"
    }
   ],
   "source": [
    "# 查看最佳参数\n",
    "fitted_models['mlp'].best_estimator_"
   ]
  },
  {
   "cell_type": "code",
   "execution_count": 197,
   "metadata": {},
   "outputs": [],
   "source": [
    "# 导出结果,存入到本地文件中\n",
    "with open('MLP_SOH_model.pkl', 'wb') as f:\n",
    "    pickle.dump(fitted_models['mlp'].best_estimator_, f)"
   ]
  }
 ],
 "metadata": {
  "kernelspec": {
   "display_name": "Python 3",
   "language": "python",
   "name": "python3"
  },
  "language_info": {
   "codemirror_mode": {
    "name": "ipython",
    "version": 3
   },
   "file_extension": ".py",
   "mimetype": "text/x-python",
   "name": "python",
   "nbconvert_exporter": "python",
   "pygments_lexer": "ipython3",
   "version": "3.6.8"
  }
 },
 "nbformat": 4,
 "nbformat_minor": 2
}
